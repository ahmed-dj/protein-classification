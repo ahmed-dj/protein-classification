{
  "nbformat": 4,
  "nbformat_minor": 0,
  "metadata": {
    "colab": {
      "name": "InstaDeep.ipynb",
      "provenance": [],
      "collapsed_sections": []
    },
    "kernelspec": {
      "name": "python3",
      "display_name": "Python 3"
    }
  },
  "cells": [
    {
      "cell_type": "markdown",
      "metadata": {
        "id": "Wpoqa_sLWV36"
      },
      "source": [
        "![logo-instadeep-longeur.png](data:image/png;base64,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)\n",
        "<center><h1><strong>InstaDeep - Computational Biology Technical Test</strong></h1></center>"
      ]
    },
    {
      "cell_type": "markdown",
      "metadata": {
        "id": "onvO6z5trAQS"
      },
      "source": [
        "#**Load the data**\n",
        "\n",
        "The data were hosted in my Google drive. No need to do the same, simply make sure that the data follow the following structure:\n",
        "\n",
        "```bash\n",
        "├── random_split\n",
        "│   ├── train\n",
        "│   ├── test\n",
        "│   ├── dev\n",
        "├── InstaDeep.ipynb\n",
        "```"
      ]
    },
    {
      "cell_type": "code",
      "metadata": {
        "colab": {
          "base_uri": "https://localhost:8080/"
        },
        "id": "12PL-AhNyC78",
        "outputId": "2f7b0ed4-f711-4a67-ed0a-3eaa229b6423"
      },
      "source": [
        "from google.colab import drive\n",
        "drive.mount('/content/drive')"
      ],
      "execution_count": 1,
      "outputs": [
        {
          "output_type": "stream",
          "text": [
            "Mounted at /content/drive\n"
          ],
          "name": "stdout"
        }
      ]
    },
    {
      "cell_type": "code",
      "metadata": {
        "id": "TZppxZAuPYoR"
      },
      "source": [
        "!cp /content/drive/MyDrive/archive.zip /content/data.zip"
      ],
      "execution_count": 2,
      "outputs": []
    },
    {
      "cell_type": "code",
      "metadata": {
        "colab": {
          "base_uri": "https://localhost:8080/"
        },
        "id": "q5A0odYYPnjZ",
        "outputId": "ce13b8b3-83be-40b1-9a81-1dbeca8833d1"
      },
      "source": [
        "!unzip /content/data.zip"
      ],
      "execution_count": 3,
      "outputs": [
        {
          "output_type": "stream",
          "text": [
            "Archive:  /content/data.zip\n",
            "  inflating: random_split/dev/data-00000-of-00010  \n",
            "  inflating: random_split/dev/data-00001-of-00010  \n",
            "  inflating: random_split/dev/data-00002-of-00010  \n",
            "  inflating: random_split/dev/data-00003-of-00010  \n",
            "  inflating: random_split/dev/data-00004-of-00010  \n",
            "  inflating: random_split/dev/data-00005-of-00010  \n",
            "  inflating: random_split/dev/data-00006-of-00010  \n",
            "  inflating: random_split/dev/data-00007-of-00010  \n",
            "  inflating: random_split/dev/data-00008-of-00010  \n",
            "  inflating: random_split/dev/data-00009-of-00010  \n",
            "  inflating: random_split/random_split/dev/data-00000-of-00010  \n",
            "  inflating: random_split/random_split/dev/data-00001-of-00010  \n",
            "  inflating: random_split/random_split/dev/data-00002-of-00010  \n",
            "  inflating: random_split/random_split/dev/data-00003-of-00010  \n",
            "  inflating: random_split/random_split/dev/data-00004-of-00010  \n",
            "  inflating: random_split/random_split/dev/data-00005-of-00010  \n",
            "  inflating: random_split/random_split/dev/data-00006-of-00010  \n",
            "  inflating: random_split/random_split/dev/data-00007-of-00010  \n",
            "  inflating: random_split/random_split/dev/data-00008-of-00010  \n",
            "  inflating: random_split/random_split/dev/data-00009-of-00010  \n",
            "  inflating: random_split/random_split/test/data-00000-of-00010  \n",
            "  inflating: random_split/random_split/test/data-00001-of-00010  \n",
            "  inflating: random_split/random_split/test/data-00002-of-00010  \n",
            "  inflating: random_split/random_split/test/data-00003-of-00010  \n",
            "  inflating: random_split/random_split/test/data-00004-of-00010  \n",
            "  inflating: random_split/random_split/test/data-00005-of-00010  \n",
            "  inflating: random_split/random_split/test/data-00006-of-00010  \n",
            "  inflating: random_split/random_split/test/data-00007-of-00010  \n",
            "  inflating: random_split/random_split/test/data-00008-of-00010  \n",
            "  inflating: random_split/random_split/test/data-00009-of-00010  \n",
            "  inflating: random_split/random_split/train/data-00000-of-00080  \n",
            "  inflating: random_split/random_split/train/data-00001-of-00080  \n",
            "  inflating: random_split/random_split/train/data-00002-of-00080  \n",
            "  inflating: random_split/random_split/train/data-00003-of-00080  \n",
            "  inflating: random_split/random_split/train/data-00004-of-00080  \n",
            "  inflating: random_split/random_split/train/data-00005-of-00080  \n",
            "  inflating: random_split/random_split/train/data-00006-of-00080  \n",
            "  inflating: random_split/random_split/train/data-00007-of-00080  \n",
            "  inflating: random_split/random_split/train/data-00008-of-00080  \n",
            "  inflating: random_split/random_split/train/data-00009-of-00080  \n",
            "  inflating: random_split/random_split/train/data-00010-of-00080  \n",
            "  inflating: random_split/random_split/train/data-00011-of-00080  \n",
            "  inflating: random_split/random_split/train/data-00012-of-00080  \n",
            "  inflating: random_split/random_split/train/data-00013-of-00080  \n",
            "  inflating: random_split/random_split/train/data-00014-of-00080  \n",
            "  inflating: random_split/random_split/train/data-00015-of-00080  \n",
            "  inflating: random_split/random_split/train/data-00016-of-00080  \n",
            "  inflating: random_split/random_split/train/data-00017-of-00080  \n",
            "  inflating: random_split/random_split/train/data-00018-of-00080  \n",
            "  inflating: random_split/random_split/train/data-00019-of-00080  \n",
            "  inflating: random_split/random_split/train/data-00020-of-00080  \n",
            "  inflating: random_split/random_split/train/data-00021-of-00080  \n",
            "  inflating: random_split/random_split/train/data-00022-of-00080  \n",
            "  inflating: random_split/random_split/train/data-00023-of-00080  \n",
            "  inflating: random_split/random_split/train/data-00024-of-00080  \n",
            "  inflating: random_split/random_split/train/data-00025-of-00080  \n",
            "  inflating: random_split/random_split/train/data-00026-of-00080  \n",
            "  inflating: random_split/random_split/train/data-00027-of-00080  \n",
            "  inflating: random_split/random_split/train/data-00028-of-00080  \n",
            "  inflating: random_split/random_split/train/data-00029-of-00080  \n",
            "  inflating: random_split/random_split/train/data-00030-of-00080  \n",
            "  inflating: random_split/random_split/train/data-00031-of-00080  \n",
            "  inflating: random_split/random_split/train/data-00032-of-00080  \n",
            "  inflating: random_split/random_split/train/data-00033-of-00080  \n",
            "  inflating: random_split/random_split/train/data-00034-of-00080  \n",
            "  inflating: random_split/random_split/train/data-00035-of-00080  \n",
            "  inflating: random_split/random_split/train/data-00036-of-00080  \n",
            "  inflating: random_split/random_split/train/data-00037-of-00080  \n",
            "  inflating: random_split/random_split/train/data-00038-of-00080  \n",
            "  inflating: random_split/random_split/train/data-00039-of-00080  \n",
            "  inflating: random_split/random_split/train/data-00040-of-00080  \n",
            "  inflating: random_split/random_split/train/data-00041-of-00080  \n",
            "  inflating: random_split/random_split/train/data-00042-of-00080  \n",
            "  inflating: random_split/random_split/train/data-00043-of-00080  \n",
            "  inflating: random_split/random_split/train/data-00044-of-00080  \n",
            "  inflating: random_split/random_split/train/data-00045-of-00080  \n",
            "  inflating: random_split/random_split/train/data-00046-of-00080  \n",
            "  inflating: random_split/random_split/train/data-00047-of-00080  \n",
            "  inflating: random_split/random_split/train/data-00048-of-00080  \n",
            "  inflating: random_split/random_split/train/data-00049-of-00080  \n",
            "  inflating: random_split/random_split/train/data-00050-of-00080  \n",
            "  inflating: random_split/random_split/train/data-00051-of-00080  \n",
            "  inflating: random_split/random_split/train/data-00052-of-00080  \n",
            "  inflating: random_split/random_split/train/data-00053-of-00080  \n",
            "  inflating: random_split/random_split/train/data-00054-of-00080  \n",
            "  inflating: random_split/random_split/train/data-00055-of-00080  \n",
            "  inflating: random_split/random_split/train/data-00056-of-00080  \n",
            "  inflating: random_split/random_split/train/data-00057-of-00080  \n",
            "  inflating: random_split/random_split/train/data-00058-of-00080  \n",
            "  inflating: random_split/random_split/train/data-00059-of-00080  \n",
            "  inflating: random_split/random_split/train/data-00060-of-00080  \n",
            "  inflating: random_split/random_split/train/data-00061-of-00080  \n",
            "  inflating: random_split/random_split/train/data-00062-of-00080  \n",
            "  inflating: random_split/random_split/train/data-00063-of-00080  \n",
            "  inflating: random_split/random_split/train/data-00064-of-00080  \n",
            "  inflating: random_split/random_split/train/data-00065-of-00080  \n",
            "  inflating: random_split/random_split/train/data-00066-of-00080  \n",
            "  inflating: random_split/random_split/train/data-00067-of-00080  \n",
            "  inflating: random_split/random_split/train/data-00068-of-00080  \n",
            "  inflating: random_split/random_split/train/data-00069-of-00080  \n",
            "  inflating: random_split/random_split/train/data-00070-of-00080  \n",
            "  inflating: random_split/random_split/train/data-00071-of-00080  \n",
            "  inflating: random_split/random_split/train/data-00072-of-00080  \n",
            "  inflating: random_split/random_split/train/data-00073-of-00080  \n",
            "  inflating: random_split/random_split/train/data-00074-of-00080  \n",
            "  inflating: random_split/random_split/train/data-00075-of-00080  \n",
            "  inflating: random_split/random_split/train/data-00076-of-00080  \n",
            "  inflating: random_split/random_split/train/data-00077-of-00080  \n",
            "  inflating: random_split/random_split/train/data-00078-of-00080  \n",
            "  inflating: random_split/random_split/train/data-00079-of-00080  \n",
            "  inflating: random_split/test/data-00000-of-00010  \n",
            "  inflating: random_split/test/data-00001-of-00010  \n",
            "  inflating: random_split/test/data-00002-of-00010  \n",
            "  inflating: random_split/test/data-00003-of-00010  \n",
            "  inflating: random_split/test/data-00004-of-00010  \n",
            "  inflating: random_split/test/data-00005-of-00010  \n",
            "  inflating: random_split/test/data-00006-of-00010  \n",
            "  inflating: random_split/test/data-00007-of-00010  \n",
            "  inflating: random_split/test/data-00008-of-00010  \n",
            "  inflating: random_split/test/data-00009-of-00010  \n",
            "  inflating: random_split/train/data-00000-of-00080  \n",
            "  inflating: random_split/train/data-00001-of-00080  \n",
            "  inflating: random_split/train/data-00002-of-00080  \n",
            "  inflating: random_split/train/data-00003-of-00080  \n",
            "  inflating: random_split/train/data-00004-of-00080  \n",
            "  inflating: random_split/train/data-00005-of-00080  \n",
            "  inflating: random_split/train/data-00006-of-00080  \n",
            "  inflating: random_split/train/data-00007-of-00080  \n",
            "  inflating: random_split/train/data-00008-of-00080  \n",
            "  inflating: random_split/train/data-00009-of-00080  \n",
            "  inflating: random_split/train/data-00010-of-00080  \n",
            "  inflating: random_split/train/data-00011-of-00080  \n",
            "  inflating: random_split/train/data-00012-of-00080  \n",
            "  inflating: random_split/train/data-00013-of-00080  \n",
            "  inflating: random_split/train/data-00014-of-00080  \n",
            "  inflating: random_split/train/data-00015-of-00080  \n",
            "  inflating: random_split/train/data-00016-of-00080  \n",
            "  inflating: random_split/train/data-00017-of-00080  \n",
            "  inflating: random_split/train/data-00018-of-00080  \n",
            "  inflating: random_split/train/data-00019-of-00080  \n",
            "  inflating: random_split/train/data-00020-of-00080  \n",
            "  inflating: random_split/train/data-00021-of-00080  \n",
            "  inflating: random_split/train/data-00022-of-00080  \n",
            "  inflating: random_split/train/data-00023-of-00080  \n",
            "  inflating: random_split/train/data-00024-of-00080  \n",
            "  inflating: random_split/train/data-00025-of-00080  \n",
            "  inflating: random_split/train/data-00026-of-00080  \n",
            "  inflating: random_split/train/data-00027-of-00080  \n",
            "  inflating: random_split/train/data-00028-of-00080  \n",
            "  inflating: random_split/train/data-00029-of-00080  \n",
            "  inflating: random_split/train/data-00030-of-00080  \n",
            "  inflating: random_split/train/data-00031-of-00080  \n",
            "  inflating: random_split/train/data-00032-of-00080  \n",
            "  inflating: random_split/train/data-00033-of-00080  \n",
            "  inflating: random_split/train/data-00034-of-00080  \n",
            "  inflating: random_split/train/data-00035-of-00080  \n",
            "  inflating: random_split/train/data-00036-of-00080  \n",
            "  inflating: random_split/train/data-00037-of-00080  \n",
            "  inflating: random_split/train/data-00038-of-00080  \n",
            "  inflating: random_split/train/data-00039-of-00080  \n",
            "  inflating: random_split/train/data-00040-of-00080  \n",
            "  inflating: random_split/train/data-00041-of-00080  \n",
            "  inflating: random_split/train/data-00042-of-00080  \n",
            "  inflating: random_split/train/data-00043-of-00080  \n",
            "  inflating: random_split/train/data-00044-of-00080  \n",
            "  inflating: random_split/train/data-00045-of-00080  \n",
            "  inflating: random_split/train/data-00046-of-00080  \n",
            "  inflating: random_split/train/data-00047-of-00080  \n",
            "  inflating: random_split/train/data-00048-of-00080  \n",
            "  inflating: random_split/train/data-00049-of-00080  \n",
            "  inflating: random_split/train/data-00050-of-00080  \n",
            "  inflating: random_split/train/data-00051-of-00080  \n",
            "  inflating: random_split/train/data-00052-of-00080  \n",
            "  inflating: random_split/train/data-00053-of-00080  \n",
            "  inflating: random_split/train/data-00054-of-00080  \n",
            "  inflating: random_split/train/data-00055-of-00080  \n",
            "  inflating: random_split/train/data-00056-of-00080  \n",
            "  inflating: random_split/train/data-00057-of-00080  \n",
            "  inflating: random_split/train/data-00058-of-00080  \n",
            "  inflating: random_split/train/data-00059-of-00080  \n",
            "  inflating: random_split/train/data-00060-of-00080  \n",
            "  inflating: random_split/train/data-00061-of-00080  \n",
            "  inflating: random_split/train/data-00062-of-00080  \n",
            "  inflating: random_split/train/data-00063-of-00080  \n",
            "  inflating: random_split/train/data-00064-of-00080  \n",
            "  inflating: random_split/train/data-00065-of-00080  \n",
            "  inflating: random_split/train/data-00066-of-00080  \n",
            "  inflating: random_split/train/data-00067-of-00080  \n",
            "  inflating: random_split/train/data-00068-of-00080  \n",
            "  inflating: random_split/train/data-00069-of-00080  \n",
            "  inflating: random_split/train/data-00070-of-00080  \n",
            "  inflating: random_split/train/data-00071-of-00080  \n",
            "  inflating: random_split/train/data-00072-of-00080  \n",
            "  inflating: random_split/train/data-00073-of-00080  \n",
            "  inflating: random_split/train/data-00074-of-00080  \n",
            "  inflating: random_split/train/data-00075-of-00080  \n",
            "  inflating: random_split/train/data-00076-of-00080  \n",
            "  inflating: random_split/train/data-00077-of-00080  \n",
            "  inflating: random_split/train/data-00078-of-00080  \n",
            "  inflating: random_split/train/data-00079-of-00080  \n"
          ],
          "name": "stdout"
        }
      ]
    },
    {
      "cell_type": "markdown",
      "metadata": {
        "id": "rR17ilAHRET6"
      },
      "source": [
        "#**Data analysis**"
      ]
    },
    {
      "cell_type": "markdown",
      "metadata": {
        "id": "zuKNLguLhB16"
      },
      "source": [
        "We first prepare the datasets by concatenating the data in each of the 3 splits. So we end up with 3 Pandas Dataframes with the following columns:\n",
        "\n",
        "```\n",
        "family_id sequence_name family_accession aligned_sequence sequence\n",
        "```\n",
        "\n",
        "We first need to make sure that no data are missing, in which case we would drop the incomplete instances."
      ]
    },
    {
      "cell_type": "code",
      "metadata": {
        "id": "WT1oLnOMRGPU"
      },
      "source": [
        "import pandas as pd\n",
        "from pathlib import Path\n",
        "import os\n",
        "import seaborn as sns\n",
        "from collections import Counter\n",
        "import matplotlib.pyplot as plt\n",
        "import numpy as np\n",
        "\n",
        "%matplotlib inline"
      ],
      "execution_count": 4,
      "outputs": []
    },
    {
      "cell_type": "code",
      "metadata": {
        "id": "4WogT1LURJx9"
      },
      "source": [
        "root_dir = Path(\"/content/random_split\")\n",
        "train_dir, test_dir, dev_dir = root_dir / \"train\", root_dir / \"test\", root_dir / \"dev\""
      ],
      "execution_count": 5,
      "outputs": []
    },
    {
      "cell_type": "code",
      "metadata": {
        "id": "eKgXUafnRiwo"
      },
      "source": [
        "# Load each file and concatenate all the sequences\n",
        "# into a single dataframe\n",
        "def concatenate_data(pathname):\n",
        "  filenames = [pathname / f for f in os.listdir(pathname)]\n",
        "  df, total_instances = pd.DataFrame(), 0\n",
        "  for f in filenames:\n",
        "    temp_df = pd.read_csv(f) # read csv and convert it to DataFrame\n",
        "    df = df.append(temp_df) # concatenate DataFrames\n",
        "    total_instances += len(temp_df.index)\n",
        "  return df, total_instances"
      ],
      "execution_count": 6,
      "outputs": []
    },
    {
      "cell_type": "code",
      "metadata": {
        "id": "7RQkhtzAuwF9"
      },
      "source": [
        "train_df, total_train = concatenate_data(train_dir)\n",
        "test_df, total_test = concatenate_data(test_dir)\n",
        "dev_df, total_dev = concatenate_data(dev_dir)"
      ],
      "execution_count": 7,
      "outputs": []
    },
    {
      "cell_type": "code",
      "metadata": {
        "colab": {
          "base_uri": "https://localhost:8080/"
        },
        "id": "nt6YrfSqK-bH",
        "outputId": "b95bd428-62d9-4282-823e-600f5bcb54d7"
      },
      "source": [
        "total_instances = total_train + total_test + total_dev\n",
        "print(f'Train data account for {100*round(total_train/total_instances, 2)}% ({total_train}) of the dataset')\n",
        "print(f'Test data account for {100*round(total_test/total_instances, 2)}% ({total_test}) of the dataset')\n",
        "print(f'Dev data account for {100*round(total_dev/total_instances, 2)}% ({total_dev}) of the dataset')"
      ],
      "execution_count": 8,
      "outputs": [
        {
          "output_type": "stream",
          "text": [
            "Train data account for 81.0% (1086741) of the dataset\n",
            "Test data account for 9.0% (126171) of the dataset\n",
            "Dev data account for 9.0% (126171) of the dataset\n"
          ],
          "name": "stdout"
        }
      ]
    },
    {
      "cell_type": "code",
      "metadata": {
        "colab": {
          "base_uri": "https://localhost:8080/",
          "height": 498
        },
        "id": "FFA6q2lSu5cb",
        "outputId": "a19c5e0f-0648-4b7c-8390-442263533764"
      },
      "source": [
        "train_df.head(10)"
      ],
      "execution_count": 8,
      "outputs": [
        {
          "output_type": "execute_result",
          "data": {
            "text/html": [
              "<div>\n",
              "<style scoped>\n",
              "    .dataframe tbody tr th:only-of-type {\n",
              "        vertical-align: middle;\n",
              "    }\n",
              "\n",
              "    .dataframe tbody tr th {\n",
              "        vertical-align: top;\n",
              "    }\n",
              "\n",
              "    .dataframe thead th {\n",
              "        text-align: right;\n",
              "    }\n",
              "</style>\n",
              "<table border=\"1\" class=\"dataframe\">\n",
              "  <thead>\n",
              "    <tr style=\"text-align: right;\">\n",
              "      <th></th>\n",
              "      <th>family_id</th>\n",
              "      <th>sequence_name</th>\n",
              "      <th>family_accession</th>\n",
              "      <th>aligned_sequence</th>\n",
              "      <th>sequence</th>\n",
              "    </tr>\n",
              "  </thead>\n",
              "  <tbody>\n",
              "    <tr>\n",
              "      <th>0</th>\n",
              "      <td>COX7B</td>\n",
              "      <td>Q4SPX5_TETNG/1-75</td>\n",
              "      <td>PF05392.11</td>\n",
              "      <td>MYRFAKAAVN.ISSQAARQ..VRHG..SSAPQDFHSKYGTGIMIGG...</td>\n",
              "      <td>MYRFAKAAVNISSQAARQVRHGSSAPQDFHSKYGTGIMIGGAVFCT...</td>\n",
              "    </tr>\n",
              "    <tr>\n",
              "      <th>1</th>\n",
              "      <td>ABC_transp_aux</td>\n",
              "      <td>D5ENZ5_CORAD/30-298</td>\n",
              "      <td>PF09822.9</td>\n",
              "      <td>QWDLTAAKEHSLSEAAKTQLNQL..ET....P.......VTIRYYA...</td>\n",
              "      <td>QWDLTAAKEHSLSEAAKTQLNQLETPVTIRYYASVGDNTIPYALRV...</td>\n",
              "    </tr>\n",
              "    <tr>\n",
              "      <th>2</th>\n",
              "      <td>SH3_13</td>\n",
              "      <td>D5WVT4_KYRT2/591-655</td>\n",
              "      <td>PF18335.1</td>\n",
              "      <td>LNPRLQGEV..NPP.G...SD.KPEVQ..A....GGRV...FRLGD...</td>\n",
              "      <td>LNPRLQGEVNPPGSDKPEVQAGGRVFRLGDRVMQVRNDYQKEVFNG...</td>\n",
              "    </tr>\n",
              "    <tr>\n",
              "      <th>3</th>\n",
              "      <td>MucBP_2</td>\n",
              "      <td>N1ZKJ4_9LACO/1081-1157</td>\n",
              "      <td>PF17965.1</td>\n",
              "      <td>QSA..QITFI...DVT.DNK..VISS........SEVVGNYG.DKI...</td>\n",
              "      <td>QSAQITFIDVTDNKVISSSEVVGNYGDKIIFTDNPEELIKQLEAQG...</td>\n",
              "    </tr>\n",
              "    <tr>\n",
              "      <th>4</th>\n",
              "      <td>Ribosomal_S13_N</td>\n",
              "      <td>D7FP13_ECTSI/24-78</td>\n",
              "      <td>PF08069.12</td>\n",
              "      <td>.......SGGK..GISKSSLPYRRSAPSWLK..V..SAQEVTEHVC...</td>\n",
              "      <td>SGGKGISKSSLPYRRSAPSWLKVSAQEVTEHVCKLAKKGLTPSQIG...</td>\n",
              "    </tr>\n",
              "    <tr>\n",
              "      <th>5</th>\n",
              "      <td>Acyl-thio_N</td>\n",
              "      <td>K3XXY3_SETIT/1-127</td>\n",
              "      <td>PF12590.8</td>\n",
              "      <td>MAAS..IAASAFFP...GSPAPAPAAPKNG...LGERPESLDVRGV...</td>\n",
              "      <td>MAASIAASAFFPGSPAPAPAAPKNGLGERPESLDVRGVAAKPGSSS...</td>\n",
              "    </tr>\n",
              "    <tr>\n",
              "      <th>6</th>\n",
              "      <td>DUF3535</td>\n",
              "      <td>E0VSS7_PEDHC/522-975</td>\n",
              "      <td>PF12054.8</td>\n",
              "      <td>VWRNLIVNS.....HLNTLLMAACPCFGGWLCLLMQNSKT.....A...</td>\n",
              "      <td>VWRNLIVNSHLNTLLMAACPCFGGWLCLLMQNSKTAFDPNLLIFED...</td>\n",
              "    </tr>\n",
              "    <tr>\n",
              "      <th>7</th>\n",
              "      <td>Peptidase_M16_M</td>\n",
              "      <td>V2YR86_MONRO/435-746</td>\n",
              "      <td>PF16187.5</td>\n",
              "      <td>FRFIE.KRK.PDDYATRIAENM.AK......PYPRE........LL...</td>\n",
              "      <td>FRFIEKRKPDDYATRIAENMAKPYPRELLLVAPSVTWNWGDQYESG...</td>\n",
              "    </tr>\n",
              "    <tr>\n",
              "      <th>8</th>\n",
              "      <td>TAF1D</td>\n",
              "      <td>L8Y6G3_TUPCH/24-227</td>\n",
              "      <td>PF15333.6</td>\n",
              "      <td>SGSSLFKTQCVPSSPTRRQRN.QIQKCVYSPKNIKE.DSSSYSSFE...</td>\n",
              "      <td>SGSSLFKTQCVPSSPTRRQRNQIQKCVYSPKNIKEDSSSYSSFEPK...</td>\n",
              "    </tr>\n",
              "    <tr>\n",
              "      <th>9</th>\n",
              "      <td>DUF1015</td>\n",
              "      <td>M9SF81_METAX/5-394</td>\n",
              "      <td>PF06245.11</td>\n",
              "      <td>.LPFKG..YRPNI.RAG.....ET..IADRVSPPYD.VIGEEELRQ...</td>\n",
              "      <td>LPFKGYRPNIRAGETIADRVSPPYDVIGEEELRQLQSKRENVTNLT...</td>\n",
              "    </tr>\n",
              "  </tbody>\n",
              "</table>\n",
              "</div>"
            ],
            "text/plain": [
              "         family_id  ...                                           sequence\n",
              "0            COX7B  ...  MYRFAKAAVNISSQAARQVRHGSSAPQDFHSKYGTGIMIGGAVFCT...\n",
              "1   ABC_transp_aux  ...  QWDLTAAKEHSLSEAAKTQLNQLETPVTIRYYASVGDNTIPYALRV...\n",
              "2           SH3_13  ...  LNPRLQGEVNPPGSDKPEVQAGGRVFRLGDRVMQVRNDYQKEVFNG...\n",
              "3          MucBP_2  ...  QSAQITFIDVTDNKVISSSEVVGNYGDKIIFTDNPEELIKQLEAQG...\n",
              "4  Ribosomal_S13_N  ...  SGGKGISKSSLPYRRSAPSWLKVSAQEVTEHVCKLAKKGLTPSQIG...\n",
              "5      Acyl-thio_N  ...  MAASIAASAFFPGSPAPAPAAPKNGLGERPESLDVRGVAAKPGSSS...\n",
              "6          DUF3535  ...  VWRNLIVNSHLNTLLMAACPCFGGWLCLLMQNSKTAFDPNLLIFED...\n",
              "7  Peptidase_M16_M  ...  FRFIEKRKPDDYATRIAENMAKPYPRELLLVAPSVTWNWGDQYESG...\n",
              "8            TAF1D  ...  SGSSLFKTQCVPSSPTRRQRNQIQKCVYSPKNIKEDSSSYSSFEPK...\n",
              "9          DUF1015  ...  LPFKGYRPNIRAGETIADRVSPPYDVIGEEELRQLQSKRENVTNLT...\n",
              "\n",
              "[10 rows x 5 columns]"
            ]
          },
          "metadata": {
            "tags": []
          },
          "execution_count": 8
        }
      ]
    },
    {
      "cell_type": "code",
      "metadata": {
        "colab": {
          "base_uri": "https://localhost:8080/"
        },
        "id": "DkbH64kDL2Ka",
        "outputId": "b987e47a-6e79-44cf-cddb-4bf2961b1f70"
      },
      "source": [
        "print(f'Number of missing values in train data: {train_df.isnull().sum()}')"
      ],
      "execution_count": 25,
      "outputs": [
        {
          "output_type": "stream",
          "text": [
            "Number of missing values in train data: family_id           0\n",
            "sequence_name       0\n",
            "family_accession    0\n",
            "aligned_sequence    0\n",
            "sequence            0\n",
            "dtype: int64\n"
          ],
          "name": "stdout"
        }
      ]
    },
    {
      "cell_type": "code",
      "metadata": {
        "colab": {
          "base_uri": "https://localhost:8080/"
        },
        "id": "dM07NaYWMIun",
        "outputId": "cd3f2e54-498e-44bb-e762-18f5109905ca"
      },
      "source": [
        "print(f'Number of missing values in dev data: {dev_df.isnull().sum()}')"
      ],
      "execution_count": 26,
      "outputs": [
        {
          "output_type": "stream",
          "text": [
            "Number of missing values in dev data: family_id           0\n",
            "sequence_name       0\n",
            "family_accession    0\n",
            "aligned_sequence    0\n",
            "sequence            0\n",
            "dtype: int64\n"
          ],
          "name": "stdout"
        }
      ]
    },
    {
      "cell_type": "code",
      "metadata": {
        "colab": {
          "base_uri": "https://localhost:8080/"
        },
        "id": "AXi943I1MKr3",
        "outputId": "28477342-394b-47fd-ab0f-fbd28f629f5d"
      },
      "source": [
        "print(f'Number of missing values in test data: {test_df.isnull().sum()}')"
      ],
      "execution_count": 27,
      "outputs": [
        {
          "output_type": "stream",
          "text": [
            "Number of missing values in test data: family_id           0\n",
            "sequence_name       0\n",
            "family_accession    0\n",
            "aligned_sequence    0\n",
            "sequence            0\n",
            "dtype: int64\n"
          ],
          "name": "stdout"
        }
      ]
    },
    {
      "cell_type": "markdown",
      "metadata": {
        "id": "-rzK44m4MMy_"
      },
      "source": [
        "No data are missing. We can keep all the instances in each dataset for the moment."
      ]
    },
    {
      "cell_type": "markdown",
      "metadata": {
        "id": "W2vjvh5ioTi4"
      },
      "source": [
        "##**Most represented family classes**"
      ]
    },
    {
      "cell_type": "markdown",
      "metadata": {
        "id": "2fqe98m2h5xE"
      },
      "source": [
        "The task at hand is to predict the family a particular protein belongs to. To do so, the sequence feature is used to predict the family_accession attribute (label). \n",
        "<br>\n",
        "* There is an obvious connection between the family_id and family_accession as they have a 1-to-1 relationship: family_id is a readable name for each family_accession code. Therefore, we can use either of them as target in our training framework as we will one-hot encode their values and the result will be exactly the same.\n",
        "<br>\n",
        "* There is also a blatant correlation between sequence and aligned_sequence: the aligned_sequence accounts for the seeds (gaps) in the real complete protein chain and hence is richer than sequence  as it gives more structural information about the interactions between amino acids. However, using the aligned sequences require encoding the seeds as well and hence more memory space during training. For the purpose of this test, we will only use the sequence feature which we will need to shrink anyway: allocating the available power and memory to encode more amino acids and not seeds seems more relevant for our classification task. Of course, with unlimited resources, the aligned sequence would be retained: the seeds are useful temporal information when training a LSTM- or Transformer-based model.\n",
        "<br>\n",
        "* As shown below, the number of classes (families) is different depending on the dataset: 17929 for training, 13071 for dev and test. We need to select our classes for 3 reasons: there is a very large number of classes (thus the need for a ~18000-dimensional vector as labels during training) which means higher computational power; a large number of classes in the training dataset are not in the other 2 so we won't be able to see how the model performs for those classes and generalisation will not be ensured; last but not least, we have a very imbalanced dataset, i.e some classes are overrepresented (> 1000 instances) and some underrepresented. For instance, 15161 out of the 17929 labels in the training dataset only have less than 100 instances; in comparison, only 289 classes have more than 500 instances. Some methods such as oversampling, undersampling and SMOTE (Synthetic Minority Oversampling Technique) to tackle this issue; however, the inequalities are tremendous and as we said, we will need to reduce the labels space anyway because of reasons of feasibility. We therefore decide to only keep a smaller proportion of classes that will be present in all 3 datasets. We will choose this proportion later in the data analysis. Those classes will be selected as the most represented, thus ensuring that we have largely enough data for training and preventing overfitting."
      ]
    },
    {
      "cell_type": "code",
      "metadata": {
        "colab": {
          "base_uri": "https://localhost:8080/"
        },
        "id": "vyvcI8svobAI",
        "outputId": "8b87ffc7-d107-4fbd-e807-0bf1da204eb1"
      },
      "source": [
        "train_df['sequence_name'].nunique()"
      ],
      "execution_count": 89,
      "outputs": [
        {
          "output_type": "execute_result",
          "data": {
            "text/plain": [
              "1086741"
            ]
          },
          "metadata": {
            "tags": []
          },
          "execution_count": 89
        }
      ]
    },
    {
      "cell_type": "code",
      "metadata": {
        "colab": {
          "base_uri": "https://localhost:8080/"
        },
        "id": "5NtGzjIioY-7",
        "outputId": "cbade782-a25d-47ba-ec21-11db9ae8ab36"
      },
      "source": [
        "train_df.groupby('family_id')['sequence_name'].nunique().sort_values(ascending=False)"
      ],
      "execution_count": 88,
      "outputs": [
        {
          "output_type": "execute_result",
          "data": {
            "text/plain": [
              "family_id\n",
              "Methyltransf_25    3637\n",
              "LRR_1              1927\n",
              "Acetyltransf_7     1761\n",
              "His_kinase         1537\n",
              "Bac_transf         1528\n",
              "                   ... \n",
              "Bacillus_PapR         1\n",
              "Adeno_PV              1\n",
              "Adeno_PIX             1\n",
              "Thx                   1\n",
              "TcpF                  1\n",
              "Name: sequence_name, Length: 17929, dtype: int64"
            ]
          },
          "metadata": {
            "tags": []
          },
          "execution_count": 88
        }
      ]
    },
    {
      "cell_type": "code",
      "metadata": {
        "colab": {
          "base_uri": "https://localhost:8080/"
        },
        "id": "qkTqkscR64hd",
        "outputId": "d9ec0f2d-53c1-437a-9e6d-e6dbc6c5dfa5"
      },
      "source": [
        "train_df.groupby('family_accession')['sequence_name'].nunique().sort_values(ascending=False)"
      ],
      "execution_count": 24,
      "outputs": [
        {
          "output_type": "execute_result",
          "data": {
            "text/plain": [
              "family_accession\n",
              "PF13649.6     3637\n",
              "PF00560.33    1927\n",
              "PF13508.7     1761\n",
              "PF06580.13    1537\n",
              "PF02397.16    1528\n",
              "              ... \n",
              "PF17601.2        1\n",
              "PF17600.2        1\n",
              "PF11570.8        1\n",
              "PF17599.2        1\n",
              "PF05550.11       1\n",
              "Name: sequence_name, Length: 17929, dtype: int64"
            ]
          },
          "metadata": {
            "tags": []
          },
          "execution_count": 24
        }
      ]
    },
    {
      "cell_type": "code",
      "metadata": {
        "colab": {
          "base_uri": "https://localhost:8080/"
        },
        "id": "vDN44zcd28vm",
        "outputId": "7acc2ac6-4a8b-4ac0-bf37-2e500cc22af1"
      },
      "source": [
        "# Count the number classes with less than 100 instances in training \n",
        "(train_df.groupby('family_accession')['sequence_name'].nunique().sort_values(ascending=False).to_numpy() < 100).sum()"
      ],
      "execution_count": 10,
      "outputs": [
        {
          "output_type": "execute_result",
          "data": {
            "text/plain": [
              "15161"
            ]
          },
          "metadata": {
            "tags": []
          },
          "execution_count": 10
        }
      ]
    },
    {
      "cell_type": "code",
      "metadata": {
        "colab": {
          "base_uri": "https://localhost:8080/"
        },
        "id": "vSrySx3gNUZ6",
        "outputId": "8c4117b2-4380-4dd5-dc29-e68c27b7c0a0"
      },
      "source": [
        "# Count the number classes with more than 1000 instances in training \n",
        "(train_df.groupby('family_accession')['sequence_name'].nunique().sort_values(ascending=False).to_numpy() > 500).sum()"
      ],
      "execution_count": 11,
      "outputs": [
        {
          "output_type": "execute_result",
          "data": {
            "text/plain": [
              "289"
            ]
          },
          "metadata": {
            "tags": []
          },
          "execution_count": 11
        }
      ]
    },
    {
      "cell_type": "code",
      "metadata": {
        "colab": {
          "base_uri": "https://localhost:8080/"
        },
        "id": "6o5QvZaA7rVW",
        "outputId": "cbc65191-d5c8-4e99-95a8-67e341f419b9"
      },
      "source": [
        "dev_df.groupby('family_accession')['sequence_name'].nunique().sort_values(ascending=False)"
      ],
      "execution_count": null,
      "outputs": [
        {
          "output_type": "execute_result",
          "data": {
            "text/plain": [
              "family_accession\n",
              "PF13649.6     454\n",
              "PF00560.33    240\n",
              "PF13508.7     219\n",
              "PF06580.13    192\n",
              "PF02397.16    190\n",
              "             ... \n",
              "PF12596.8       1\n",
              "PF16318.5       1\n",
              "PF12595.8       1\n",
              "PF14948.6       1\n",
              "PF05111.12      1\n",
              "Name: sequence_name, Length: 13071, dtype: int64"
            ]
          },
          "metadata": {
            "tags": []
          },
          "execution_count": 149
        }
      ]
    },
    {
      "cell_type": "code",
      "metadata": {
        "colab": {
          "base_uri": "https://localhost:8080/"
        },
        "id": "NIRvsw1y3MxT",
        "outputId": "c76856e9-60b6-46e2-9852-14672adeb731"
      },
      "source": [
        "# Count the number classes with less than 100 instances in dev \n",
        "(dev_df.groupby('family_accession')['sequence_name'].nunique().sort_values(ascending=False).to_numpy() < 100).sum()"
      ],
      "execution_count": 11,
      "outputs": [
        {
          "output_type": "execute_result",
          "data": {
            "text/plain": [
              "13016"
            ]
          },
          "metadata": {
            "tags": []
          },
          "execution_count": 11
        }
      ]
    },
    {
      "cell_type": "code",
      "metadata": {
        "colab": {
          "base_uri": "https://localhost:8080/"
        },
        "id": "0Qce_xYg7tZx",
        "outputId": "bf1e533b-5992-4508-8a0a-06cb5e36c8cd"
      },
      "source": [
        "test_df.groupby('family_accession')['sequence_name'].nunique().sort_values(ascending=False)"
      ],
      "execution_count": null,
      "outputs": [
        {
          "output_type": "execute_result",
          "data": {
            "text/plain": [
              "family_accession\n",
              "PF13649.6     454\n",
              "PF00560.33    240\n",
              "PF13508.7     219\n",
              "PF06580.13    192\n",
              "PF02397.16    190\n",
              "             ... \n",
              "PF12596.8       1\n",
              "PF16318.5       1\n",
              "PF12595.8       1\n",
              "PF14948.6       1\n",
              "PF05111.12      1\n",
              "Name: sequence_name, Length: 13071, dtype: int64"
            ]
          },
          "metadata": {
            "tags": []
          },
          "execution_count": 150
        }
      ]
    },
    {
      "cell_type": "code",
      "metadata": {
        "colab": {
          "base_uri": "https://localhost:8080/"
        },
        "id": "cmjGQ92W3SEs",
        "outputId": "35d9397d-2a19-48ae-eb4e-4970945fe681"
      },
      "source": [
        "# Count the number classes with less than 100 instances in test \n",
        "(test_df.groupby('family_accession')['sequence_name'].nunique().sort_values(ascending=False).to_numpy() < 100).sum()"
      ],
      "execution_count": 12,
      "outputs": [
        {
          "output_type": "execute_result",
          "data": {
            "text/plain": [
              "13016"
            ]
          },
          "metadata": {
            "tags": []
          },
          "execution_count": 12
        }
      ]
    },
    {
      "cell_type": "code",
      "metadata": {
        "id": "MidMUcTBu-pM"
      },
      "source": [
        "def plot_count(df, ax, index, name):\n",
        "  sequence_counts = df['sequence'].str.len()\n",
        "  sns.histplot(sequence_counts, kde=True, ax=ax[index])\n",
        "  ax[index].set_title(f'Sequence lengths in {name} dataset')\n",
        "  ax[index].set(xlabel='Sequence length', ylabel='Count')"
      ],
      "execution_count": 12,
      "outputs": []
    },
    {
      "cell_type": "code",
      "metadata": {
        "colab": {
          "base_uri": "https://localhost:8080/",
          "height": 475
        },
        "id": "ITQaadf4wMFJ",
        "outputId": "bc20da4e-bb68-4c93-b5b8-90e6847a3c80"
      },
      "source": [
        "fig, ax = plt.subplots(1, 3, figsize=(30, 10))\n",
        "\n",
        "plot_count(train_df, ax, 0, 'train')\n",
        "plot_count(test_df, ax, 1, 'test')\n",
        "plot_count(dev_df, ax, 2, 'dev')"
      ],
      "execution_count": 15,
      "outputs": [
        {
          "output_type": "display_data",
          "data": {
            "image/png": "[encoded data removed]",
            "text/plain": [
              "<Figure size 2160x720 with 3 Axes>"
            ]
          },
          "metadata": {
            "tags": [],
            "needs_background": "light"
          }
        }
      ]
    },
    {
      "cell_type": "code",
      "metadata": {
        "colab": {
          "base_uri": "https://localhost:8080/"
        },
        "id": "MrMbkf3xOWlQ",
        "outputId": "9dc8440a-1b0a-4d9b-d1e4-ca24975ad3d3"
      },
      "source": [
        "print(f'Mean for training sequence length: {train_df[\"sequence\"].str.len().mean()}')\n",
        "print(f'Standard deviation for training sequence length: {train_df[\"sequence\"].str.len().std()}')\n",
        "print(f'Mean for dev sequence length: {dev_df[\"sequence\"].str.len().mean()}')\n",
        "print(f'Standard deviation for dev sequence length: {dev_df[\"sequence\"].str.len().std()}')\n",
        "print(f'Mean for test sequence length: {test_df[\"sequence\"].str.len().mean()}')\n",
        "print(f'Standard deviation for test sequence length: {test_df[\"sequence\"].str.len().std()}')"
      ],
      "execution_count": 19,
      "outputs": [
        {
          "output_type": "stream",
          "text": [
            "Mean for training sequence length: 155.37997094063812\n",
            "Standard deviation for training sequence length: 120.12319925495248\n",
            "Mean for dev sequence length: 154.2222063707191\n",
            "Standard deviation for dev sequence length: 118.2782498111793\n",
            "Mean for test sequence length: 154.16684499607675\n",
            "Standard deviation for test sequence length: 118.37670584022541\n"
          ],
          "name": "stdout"
        }
      ]
    },
    {
      "cell_type": "markdown",
      "metadata": {
        "id": "n3_H_uDko3bd"
      },
      "source": [
        "As shown above, the vast majority of the sequences' lengths in the datasets do not exceed 250 amino acids with a mean around 150 characters for all 3 datasets. As we will see, each amino acid will be encoded but the number of amino acids must be the same across all instances. We can't have input data in our model with different lengths, we therefore have to fix a max sequence length, large enough to contain the meaningful information we need to determine the protein family.\n",
        "For computational reasons only, we can't simply select the highest sequence length in the datasets as it would require too much memeory: we will truncate every sequence with a fixed length of 100 (200 is still a bit too big for training the model in Colab)."
      ]
    },
    {
      "cell_type": "markdown",
      "metadata": {
        "id": "ppyo6F_w7viT"
      },
      "source": [
        "##**Amino acid frequencies**"
      ]
    },
    {
      "cell_type": "markdown",
      "metadata": {
        "id": "foTby1ZE7zEE"
      },
      "source": [
        "As shown below, the amino acids B, U, O and Z are largely underrepresented. As we will later need to encode and embed those amino acids, hence create a multi dimensional vector for each of them, we can reasonly drop them and simply put encode them as 0 before using the embedding layer. We can also assume that their influence if there is one, can be largely undermined and hence justifies our decision. We also note that not all the amino acids present during training are found during evaluation or testing; like for the missing target labels, dropping those 4 amino acids makes sense in such a case as they won't even matter in making the decision on the test data."
      ]
    },
    {
      "cell_type": "code",
      "metadata": {
        "id": "llel1JYRxIKh"
      },
      "source": [
        "def plot_frequencies(df, ax, index, name):\n",
        "  frequencies = Counter()\n",
        "  for seq in df['sequence'].to_numpy():\n",
        "    frequencies += Counter(seq)\n",
        "\n",
        "  frequency_df = pd.DataFrame({ 'Amino acid': frequencies.keys(), 'Frequency': frequencies.values()}).sort_values('Frequency', ascending=False).reset_index()[['Amino acid', 'Frequency']]\n",
        "\n",
        "  ax[index].set_title(f'Frequency in {name} dataset')\n",
        "  sns.barplot(data=frequency_df, x='Amino acid', y='Frequency', ax=ax[index])\n",
        "\n",
        "  return frequency_df"
      ],
      "execution_count": 9,
      "outputs": []
    },
    {
      "cell_type": "code",
      "metadata": {
        "colab": {
          "base_uri": "https://localhost:8080/",
          "height": 551
        },
        "id": "0xtDVSdbyo3r",
        "outputId": "493a85ef-27cf-4ead-9f2b-ac075d807998"
      },
      "source": [
        "fig, ax = plt.subplots(1, 3, figsize=(30, 10))\n",
        "train_frequencies_df = plot_frequencies(train_df, ax, 0, 'train')\n",
        "test_frequencies_df = plot_frequencies(test_df, ax, 1, 'test')\n",
        "dev_frequencies_df = plot_frequencies(dev_df, ax, 2, 'dev')"
      ],
      "execution_count": null,
      "outputs": [
        {
          "output_type": "display_data",
          "data": {
            "image/png": "[encoded data removed]",
            "text/plain": [
              "<Figure size 2160x720 with 3 Axes>"
            ]
          },
          "metadata": {
            "tags": []
          }
        }
      ]
    },
    {
      "cell_type": "code",
      "metadata": {
        "colab": {
          "base_uri": "https://localhost:8080/"
        },
        "id": "SgJKxXLByqUn",
        "outputId": "3c61b449-14cb-4e29-d5af-99e6f4bf9bce"
      },
      "source": [
        "print(f'Training frequencies - unique amino acids: {len(train_frequencies_df[\"Amino acid\"])}')\n",
        "print(train_frequencies_df)\n",
        "print(f'\\nDev frequencies - unique amino acids: {len(dev_frequencies_df[\"Amino acid\"])}')\n",
        "print(dev_frequencies_df)\n",
        "print(f'\\nTest frequencies - unique amino acids: {len(test_frequencies_df[\"Amino acid\"])}')\n",
        "print(test_frequencies_df)"
      ],
      "execution_count": null,
      "outputs": [
        {
          "output_type": "stream",
          "text": [
            "Training frequencies - unique amino acids: 25\n",
            "   Amino acid  Frequency\n",
            "0           L   17062816\n",
            "1           A   14384873\n",
            "2           V   11913147\n",
            "3           G   11845579\n",
            "4           E   10859966\n",
            "5           S   10597822\n",
            "6           I   10234455\n",
            "7           R    9406165\n",
            "8           D    9371097\n",
            "9           K    9127832\n",
            "10          T    9034110\n",
            "11          P    7441084\n",
            "12          F    7130287\n",
            "13          N    6616976\n",
            "14          Q    6250389\n",
            "15          Y    5556597\n",
            "16          M    3708948\n",
            "17          H    3704587\n",
            "18          C    2316115\n",
            "19          W    2293257\n",
            "20          X       1505\n",
            "21          U        119\n",
            "22          B         33\n",
            "23          O         18\n",
            "24          Z          8\n",
            "\n",
            "Dev frequencies - unique amino acids: 22\n",
            "   Amino acid  Frequency\n",
            "0           L    1967025\n",
            "1           A    1667703\n",
            "2           V    1382128\n",
            "3           G    1376124\n",
            "4           E    1249356\n",
            "5           S    1210750\n",
            "6           I    1185722\n",
            "7           R    1085950\n",
            "8           D    1080572\n",
            "9           K    1047638\n",
            "10          T    1039590\n",
            "11          P     850937\n",
            "12          F     820778\n",
            "13          N     757315\n",
            "14          Q     714424\n",
            "15          Y     639252\n",
            "16          M     428275\n",
            "17          H     426922\n",
            "18          C     264434\n",
            "19          W     263317\n",
            "20          X        146\n",
            "21          U         12\n",
            "\n",
            "Test frequencies - unique amino acids: 24\n",
            "   Amino acid  Frequency\n",
            "0           L    1967046\n",
            "1           A    1668137\n",
            "2           V    1380962\n",
            "3           G    1375349\n",
            "4           E    1251000\n",
            "5           S    1210559\n",
            "6           I    1184239\n",
            "7           R    1085786\n",
            "8           D    1078379\n",
            "9           K    1045957\n",
            "10          T    1038682\n",
            "11          P     851574\n",
            "12          F     822738\n",
            "13          N     756549\n",
            "14          Q     712317\n",
            "15          Y     639218\n",
            "16          M     428892\n",
            "17          H     425862\n",
            "18          C     264168\n",
            "19          W     263755\n",
            "20          X        198\n",
            "21          U         12\n",
            "22          Z          4\n",
            "23          B          2\n"
          ],
          "name": "stdout"
        }
      ]
    },
    {
      "cell_type": "markdown",
      "metadata": {
        "id": "cgKKQAMdcb2-"
      },
      "source": [
        "##**Plot cumulative classes count**"
      ]
    },
    {
      "cell_type": "markdown",
      "metadata": {
        "id": "sY-rC9pgcxMW"
      },
      "source": [
        "We tried training the model using the whole training dataset, i.e with the 18000 classes included. Because of limited computational power, we need to drastically downsample the dataset by only keeping the N most represented classes. Here, we try N=1000. As we can see below, this accounts for 40% of the training data. Of course, with larger computational power, one can easily increase the number of classes retained and train the model on the whole dataset. We only chose to reduce the dataset that much to make the notebook runnable with the configuration mentioned in the test description. Let's note that the curve increase is very sharp at the beginning: as the list is sorted in the descending order, this means that there is only few classes with high numbers of instances. The majority of classes have less than 500 instances.\n",
        "\n"
      ]
    },
    {
      "cell_type": "code",
      "metadata": {
        "colab": {
          "base_uri": "https://localhost:8080/",
          "height": 609
        },
        "id": "Tg6Cm9_schZm",
        "outputId": "deaec455-f47d-4a1b-86b4-6ebeb8e5a7d7"
      },
      "source": [
        "x = train_df.groupby('family_accession')['sequence_name'].nunique().sort_values(ascending=False)\n",
        "y = [x[0]]\n",
        "for i in range(1, len(x)):\n",
        "  y.append(sum(x[:i]))\n",
        "y = [c/y[-1] for c in y]\n",
        "plt.figure(figsize=(10,10))\n",
        "plt.plot(np.arange(len(y))[::1000], y[::1000], label=\"Cumulative density\")\n",
        "plt.vlines([1000], ymin=0, ymax=1, label=\"Density for 1000 classes\")\n",
        "plt.legend()"
      ],
      "execution_count": 7,
      "outputs": [
        {
          "output_type": "execute_result",
          "data": {
            "text/plain": [
              "<matplotlib.legend.Legend at 0x7f78b6b10160>"
            ]
          },
          "metadata": {
            "tags": []
          },
          "execution_count": 7
        },
        {
          "output_type": "display_data",
          "data": {
            "image/png": "[encoded data removed]",
            "text/plain": [
              "<Figure size 720x720 with 1 Axes>"
            ]
          },
          "metadata": {
            "tags": [],
            "needs_background": "light"
          }
        }
      ]
    },
    {
      "cell_type": "code",
      "metadata": {
        "id": "LRSfN9RqyJE0"
      },
      "source": [
        "# Keep 1000 most represented classes\n",
        "classes = x.index.to_numpy().tolist()[:1000]\n",
        "\n",
        "train_df = train_df.loc[train_df['family_accession'].isin(classes)].reset_index()\n",
        "test_df = test_df.loc[test_df['family_accession'].isin(classes)].reset_index()\n",
        "dev_df = dev_df.loc[dev_df['family_accession'].isin(classes)].reset_index()"
      ],
      "execution_count": 8,
      "outputs": []
    },
    {
      "cell_type": "code",
      "metadata": {
        "colab": {
          "base_uri": "https://localhost:8080/"
        },
        "id": "ja91aP0m66TH",
        "outputId": "415ecb35-ce81-4984-b4f4-3ae5c6dc4f2a"
      },
      "source": [
        "print(f'After selection, {len(train_df.index)} training instances')\n",
        "print(f'After selection, {len(test_df.index)} test instances')\n",
        "print(f'After selection, {len(dev_df.index)} dev instances')"
      ],
      "execution_count": 9,
      "outputs": [
        {
          "output_type": "stream",
          "text": [
            "After selection, 439493 training instances\n",
            "After selection, 54378 test instances\n",
            "After selection, 54378 dev instances\n"
          ],
          "name": "stdout"
        }
      ]
    },
    {
      "cell_type": "markdown",
      "metadata": {
        "id": "dpXg-rStVOqD"
      },
      "source": [
        "#**Classification**"
      ]
    },
    {
      "cell_type": "markdown",
      "metadata": {
        "id": "jch0tb4RshQJ"
      },
      "source": [
        "We want to predict the class (target: family accession) of a protein given its sequence of amino acids (features). This a multiclass classification task. \n",
        "<br>\n",
        "We can note that using the aligned sequence instead might more relevant as it accounts for the true connectionist nature of the protein, hence providing more information about it and potentially the family it belongs to. However, doing so will require more power as we would need more dimension to encode the seeds.\n",
        "<br>\n",
        "But we first need to preprocess the raw sequences before using them. As the class depends on the chronological order of amino acids, RNNs are likely to be a good solution as they can capture the relationships between a characters and its predecessors and successors (if bidirectional especially). Here, we will use a LSTM-based network to classify the data. The sequences will first be encoded using a vocabulary of the 21 amino acids retained during the data analysis, then embedded as 128-dimensional vectors. The LSTM output will be then be passed into a Dense layer followed by a softmax activation function. The final predictions will a 2000-dimensional vector representing the probability the sequence belongs to each of the 2000 families."
      ]
    },
    {
      "cell_type": "markdown",
      "metadata": {
        "id": "2LGbykNau_fa"
      },
      "source": [
        "Transformers are known to perform a bit better on some NLP tasks. It would be worth checking what kind of results they could give on our dataset."
      ]
    },
    {
      "cell_type": "code",
      "metadata": {
        "id": "5G6-PiMGVRIN"
      },
      "source": [
        "import torch\n",
        "from torch.autograd import Variable\n",
        "import torch.nn as nn\n",
        "import torch.nn.functional as F\n",
        "import torch.optim as optim\n",
        "import numpy as np\n",
        "import pandas as pd\n",
        "from torch.utils.data import DataLoader, Dataset\n",
        "from pathlib import Path\n",
        "import numpy as np\n",
        "import math\n",
        "import time"
      ],
      "execution_count": 1,
      "outputs": []
    },
    {
      "cell_type": "markdown",
      "metadata": {
        "id": "aF-hALlKnk8K"
      },
      "source": [
        "##**Dataset**"
      ]
    },
    {
      "cell_type": "code",
      "metadata": {
        "id": "4TP9lxooYtZv"
      },
      "source": [
        "# Vocabulary of amino acids that will be encoded as an integer and then vectorised \n",
        "# through the embedding layer\n",
        "amino_acids = ['L', 'A', 'V', 'G', 'E', 'S', 'I', 'R', 'D', 'K', 'T', \n",
        "               'P', 'F', 'N', 'Q', 'Y', 'M', 'H', 'C', 'W', 'X']\n",
        "\n",
        "# dictionary of integer encoding, e.g L --> 1, A --> 2, etc\n",
        "prot_to_int = dict((p, i+1) for i, p in enumerate(amino_acids)) \n",
        "\n",
        "# Max sequence length selected during data analysis\n",
        "max_length_seq = 100\n",
        "\n",
        "# Alternative to encode amino acid as one hot vector instead of integers\n",
        "def one_hot_encoding(sequence):\n",
        "  integer_encoded = [prot_to_int[p] if p in prot_to_int.keys() else 0 for p in sequence]\n",
        "  one_hot_encoded = []\n",
        "  for i in integer_encoded:\n",
        "    vector = np.zeros(len(amino_acids))\n",
        "    if i > 0:\n",
        "      vector[i-1] = 1\n",
        "    one_hot_encoded.append(vector)\n",
        "  return one_hot_encoded\n",
        "\n",
        "def integer_encoding(sequence):\n",
        "  \"\"\"Return list of integers\n",
        "  Encode a sequence of amino acid letters into a list of integers\n",
        "  \"\"\"\n",
        "  integer_encoded = [prot_to_int[p] if p in prot_to_int.keys() else 0 for p in sequence]\n",
        "  return integer_encoded"
      ],
      "execution_count": 2,
      "outputs": []
    },
    {
      "cell_type": "code",
      "metadata": {
        "id": "FPjlwfEDVjqx"
      },
      "source": [
        "class ProteinDataset(Dataset):\n",
        "    \"\"\"Inherit the PyTorch Dataset object\n",
        "\n",
        "    Parse the DataFrame into a list of one-hot encoded labels \n",
        "    and a list of integer encoded amino acids sequence of fixed length\n",
        "    0-padding is applied if the sequence is too short\"\"\"\n",
        "    def __init__(self, df, seed=42):\n",
        "        self.seed = np.random.RandomState(seed)\n",
        "        self.data, self.labels = self.preprocessing(df)\n",
        "\n",
        "    def preprocessing(self, df):\n",
        "        \"\"\"Take the raw dataframe as input and create a list of\n",
        "        encoded amino acid sequences and a list of one-hot encoded labels\"\"\"\n",
        "        labels_dict = dict((lab, i) for i, lab in enumerate(classes))\n",
        "        labels = []\n",
        "        for label in df['family_accession'].to_numpy():\n",
        "          vector = np.zeros(1000)\n",
        "          vector[labels_dict[label]] = 1 # label one-hot encoding\n",
        "          labels.append(vector)\n",
        "\n",
        "        data = []\n",
        "        for seq in df['sequence'].to_numpy():\n",
        "            integer_encoded = integer_encoding(seq)\n",
        "            if len(integer_encoded) >= max_length_seq:\n",
        "                integer_encoded = integer_encoded[:max_length_seq] # truncate if too large\n",
        "            else:\n",
        "                integer_encoded += [0]*(max_length_seq-len(integer_encoded)) # 0-padding\n",
        "            data.append(integer_encoded)\n",
        "        return data, labels\n",
        "\n",
        "    def __len__(self):\n",
        "        return len(self.labels)\n",
        "\n",
        "    def __getitem__(self, index):\n",
        "        return torch.tensor(self.data[index]), torch.tensor(self.labels[index])"
      ],
      "execution_count": 12,
      "outputs": []
    },
    {
      "cell_type": "markdown",
      "metadata": {
        "id": "IQfHDBJ-nnqO"
      },
      "source": [
        "##**Model**"
      ]
    },
    {
      "cell_type": "code",
      "metadata": {
        "colab": {
          "base_uri": "https://localhost:8080/"
        },
        "id": "20MmeJ0XM08N",
        "outputId": "f10844a1-3211-49dd-fc8a-426f17a8b229"
      },
      "source": [
        "use_cuda = torch.cuda.is_available()\n",
        "device = torch.device('cuda' if use_cuda else 'cpu')\n",
        "cuda_options = { 'num_workers': 0, 'pin_memory': True } if use_cuda else {}\n",
        "\n",
        "print(f'-------------- {device} will be used -----------------')"
      ],
      "execution_count": 13,
      "outputs": [
        {
          "output_type": "stream",
          "text": [
            "-------------- cuda will be used -----------------\n"
          ],
          "name": "stdout"
        }
      ]
    },
    {
      "cell_type": "code",
      "metadata": {
        "id": "25KVuRS_4Da9"
      },
      "source": [
        "class ProteinModel(nn.Module):\n",
        "  def __init__(self, input_dim, embedding_dim, lstm_output_dim, num_classes, batch_size, device):\n",
        "    super(ProteinModel, self).__init__()\n",
        "\n",
        "    self.batch_size = batch_size\n",
        "    self.hidden_size = lstm_output_dim\n",
        "    self.device = device\n",
        "\n",
        "    self.embedding = nn.Embedding(input_dim, embedding_dim) # Embed each of the 22 integers into a 128-dimensional vector\n",
        "    self.rnn = nn.LSTM(embedding_dim, lstm_output_dim, num_layers=2, bidirectional=True)\n",
        "    self.dropout = nn.Dropout(p=0.2) # Regularise training and prevent overfitting\n",
        "    self.classifier = nn.Sequential( # Final classifier that outputs the probas for each class\n",
        "        nn.Linear(lstm_output_dim, num_classes),\n",
        "        nn.Softmax()\n",
        "    )\n",
        "\n",
        "  def forward(self, x, batch_size=None):\n",
        "    embeds = self.embedding(x)\n",
        "    embeds = embeds.permute(1, 0, 2)\n",
        "\n",
        "    if batch_size is None:\n",
        "      h_0 = Variable(torch.zeros(4, self.batch_size, self.hidden_size).to(self.device)) # Initial hidden state of the LSTM\n",
        "      c_0 = Variable(torch.zeros(4, self.batch_size, self.hidden_size).to(self.device)) # Initial cell state of the LSTM\n",
        "    else:\n",
        "      h_0 = Variable(torch.zeros(4, batch_size, self.hidden_size).to(self.device))\n",
        "      c_0 = Variable(torch.zeros(4, batch_size, self.hidden_size).to(self.device))\n",
        "\n",
        "    output, (final_hidden_state, final_cell_state) = self.rnn(embeds, (h_0, c_0))\n",
        "    final_output = self.classifier(final_hidden_state[-1])\n",
        "    return final_output #self.classifier(final_output.view(len(sentence), -1))\n",
        "\n",
        "  def __call__(self, x, batch_size=None):\n",
        "    return self.forward(x, batch_size)"
      ],
      "execution_count": 14,
      "outputs": []
    },
    {
      "cell_type": "markdown",
      "metadata": {
        "id": "_83GtIW6LRXN"
      },
      "source": [
        "##**Create datasets from DataFrames**"
      ]
    },
    {
      "cell_type": "code",
      "metadata": {
        "id": "JU11ByfyMh1o"
      },
      "source": [
        "train_dataset = ProteinDataset(df=train_df)\n",
        "dev_dataset = ProteinDataset(df=dev_df)\n",
        "test_dataset = ProteinDataset(df=test_df)\n",
        "\n",
        "train_dataloader = DataLoader(dataset=train_dataset, batch_size=512, shuffle=True, drop_last=True, **cuda_options)\n",
        "dev_dataloader = DataLoader(dataset=dev_dataset, batch_size=256, drop_last=True, **cuda_options)\n",
        "test_dataloader = DataLoader(dataset=test_dataset, batch_size=256, drop_last=True, **cuda_options)"
      ],
      "execution_count": 15,
      "outputs": []
    },
    {
      "cell_type": "code",
      "metadata": {
        "id": "qhz0ZEixKUDL"
      },
      "source": [
        "torch.cuda.empty_cache()"
      ],
      "execution_count": 17,
      "outputs": []
    },
    {
      "cell_type": "markdown",
      "metadata": {
        "id": "VtkXlUEwLXBA"
      },
      "source": [
        "##**Initialise hyperparameters**"
      ]
    },
    {
      "cell_type": "code",
      "metadata": {
        "id": "HJb0-Y3mLPPm"
      },
      "source": [
        "input_dim = len(amino_acids)+1    # +1 for other amino acids \n",
        "embedding_dim = 128               # dimension of the embedded vector\n",
        "lstm_output_dim = 128             # dimension of lstm hidden state\n",
        "num_classes = 1000                # selected number of target families \n",
        "batch_size = 512\n",
        "\n",
        "epochs = 30\n",
        "learning_rate = 0.0005\n",
        "betas = (0.9, 0.999)\n",
        "weight_decay = 10e-5\n",
        "\n",
        "model = ProteinModel(\n",
        "    batch_size=batch_size,\n",
        "    input_dim=input_dim, \n",
        "    embedding_dim=embedding_dim,\n",
        "    lstm_output_dim=lstm_output_dim, \n",
        "    num_classes=num_classes,\n",
        "    device=device).to(device)\n",
        "\n",
        "optimizer = optim.Adam(model.parameters(), lr=learning_rate, betas=betas, weight_decay=weight_decay)"
      ],
      "execution_count": 16,
      "outputs": []
    },
    {
      "cell_type": "code",
      "metadata": {
        "colab": {
          "base_uri": "https://localhost:8080/"
        },
        "id": "PAZexHU6U2kh",
        "outputId": "403ccd26-97ab-41b9-8f08-d20bab32f1a7"
      },
      "source": [
        "print(model)"
      ],
      "execution_count": 17,
      "outputs": [
        {
          "output_type": "stream",
          "text": [
            "ProteinModel(\n",
            "  (embedding): Embedding(22, 128)\n",
            "  (rnn): LSTM(128, 128, num_layers=2, bidirectional=True)\n",
            "  (dropout): Dropout(p=0.2, inplace=False)\n",
            "  (classifier): Sequential(\n",
            "    (0): Linear(in_features=128, out_features=1000, bias=True)\n",
            "    (1): Softmax(dim=None)\n",
            "  )\n",
            ")\n"
          ],
          "name": "stdout"
        }
      ]
    },
    {
      "cell_type": "markdown",
      "metadata": {
        "id": "cRgrGofOuHAH"
      },
      "source": [
        "**Early stopping is used to stop trainig when the validation loss starts increasing. This prevents the model from overfitting the training dataset.**\n",
        "A tolerance is introduced: we wait for the loss to start decreasing again before stopping training."
      ]
    },
    {
      "cell_type": "code",
      "metadata": {
        "id": "m4LWqO2IfD5n"
      },
      "source": [
        "\"\"\"Code from https://github.com/Bjarten/early-stopping-pytorch/blob/master/pytorchtools.py\"\"\"\n",
        "class EarlyStopping:\n",
        "    \"\"\"Early stops the training if validation loss doesn't improve after a given patience.\"\"\"\n",
        "    def __init__(self, patience=7, verbose=False, delta=0, path='checkpoint.pt', trace_func=print):\n",
        "        \"\"\"\n",
        "        Args:\n",
        "            patience (int): How long to wait after last time validation loss improved.\n",
        "                            Default: 7\n",
        "            verbose (bool): If True, prints a message for each validation loss improvement. \n",
        "                            Default: False\n",
        "            delta (float): Minimum change in the monitored quantity to qualify as an improvement.\n",
        "                            Default: 0\n",
        "            path (str): Path for the checkpoint to be saved to.\n",
        "                            Default: 'checkpoint.pt'\n",
        "            trace_func (function): trace print function.\n",
        "                            Default: print            \n",
        "        \"\"\"\n",
        "        self.patience = patience\n",
        "        self.verbose = verbose\n",
        "        self.counter = 0\n",
        "        self.best_score = None\n",
        "        self.early_stop = False\n",
        "        self.val_loss_min = np.Inf\n",
        "        self.delta = delta\n",
        "        self.path = path\n",
        "        self.trace_func = trace_func\n",
        "    def __call__(self, val_loss, model):\n",
        "\n",
        "        score = -val_loss\n",
        "\n",
        "        if self.best_score is None:\n",
        "            self.best_score = score\n",
        "            self.save_checkpoint(val_loss, model)\n",
        "        elif score < self.best_score + self.delta:\n",
        "            self.counter += 1\n",
        "            self.trace_func(f'EarlyStopping counter: {self.counter} out of {self.patience}')\n",
        "            if self.counter >= self.patience:\n",
        "                self.early_stop = True\n",
        "        else:\n",
        "            self.best_score = score\n",
        "            self.save_checkpoint(val_loss, model)\n",
        "            self.counter = 0\n",
        "\n",
        "    def save_checkpoint(self, val_loss, model):\n",
        "        '''Saves model when validation loss decrease.'''\n",
        "        if self.verbose:\n",
        "            self.trace_func(f'Validation loss decreased ({self.val_loss_min:.6f} --> {val_loss:.6f}).  Saving model ...')\n",
        "        torch.save(model.state_dict(), self.path)\n",
        "        self.val_loss_min = val_loss"
      ],
      "execution_count": 18,
      "outputs": []
    },
    {
      "cell_type": "markdown",
      "metadata": {
        "id": "EVdNw9oJLcz9"
      },
      "source": [
        "##**Training**"
      ]
    },
    {
      "cell_type": "markdown",
      "metadata": {
        "id": "WmC5zsNJuUKJ"
      },
      "source": [
        "**The loss is a classic Categorical Cross Entropy as we are dealing with a multiclass classification task.**"
      ]
    },
    {
      "cell_type": "code",
      "metadata": {
        "id": "i3tOsu1bOypW",
        "colab": {
          "base_uri": "https://localhost:8080/"
        },
        "outputId": "87165e43-7c30-4fdd-90bb-3c7c02f37672"
      },
      "source": [
        "def compute_loss(predicted_probas, labels):\n",
        "    labels = labels.float()\n",
        "    probas = torch.clamp(predicted_probas, min=1e-5, max=1.-1e-5) # ensures no log(0) or log(1)\n",
        "    negative_log_likelihood = - 1. * (labels * torch.log(probas) + (1. - labels) * torch.log(1. - probas))\n",
        "\n",
        "    return negative_log_likelihood.sum()\n",
        "\n",
        "def compute_classification_error(predicted_probas, labels):\n",
        "    _, predicted_indices = torch.max(predicted_probas.float(), 1)\n",
        "    _, indices = torch.max(labels.float(), 1)\n",
        "    error = 1. - indices.eq(predicted_indices).cpu().float().mean().item()\n",
        "    return error\n",
        "\n",
        "def compute_accuracy(predicted_probas, labels):\n",
        "    correct = (torch.max(predicted_probas.data, 1)[1] == torch.max(labels.data, 1)[1]).sum().item()\n",
        "    return correct/len(labels)\n",
        "\n",
        "early_stopping = EarlyStopping(verbose=True)\n",
        "\n",
        "# Training\n",
        "print('Start training model...')\n",
        "start_time = time.time()\n",
        "train_losses, avg_train_losses,  = [], []\n",
        "dev_losses, avg_dev_losses = [], []\n",
        "dev_accuracies, avg_dev_accuracies = [], []\n",
        "for epoch in range(1, epochs+1):\n",
        "\n",
        "    ########################\n",
        "    #### Train the model ###\n",
        "    ########################\n",
        "    model.train()\n",
        "    #cumulated_error = 0.\n",
        "    for batch_idx, (seqs, labels) in enumerate(train_dataloader):\n",
        "        seqs, labels = Variable(seqs.long().to(device)), Variable(labels.to(device))\n",
        "        optimizer.zero_grad() # Prevent accumulation of gradients during training\n",
        "\n",
        "        predictions = model(seqs)\n",
        "        loss = compute_loss(predictions, labels) # Categorial Cross Entropy\n",
        "        train_losses.append(loss.item())\n",
        "\n",
        "        #error = compute_classification_error(predictions, labels)\n",
        "        #cumulated_error += error\n",
        "\n",
        "        loss.backward() # Backpropagation through the computational graph\n",
        "        optimizer.step() # Update the model weights\n",
        "\n",
        "    ########################\n",
        "    ## Evaluate the model ##\n",
        "    ########################\n",
        "    model.eval()\n",
        "    for batch_idx, (seqs, labels) in enumerate(dev_dataloader):\n",
        "        seqs, labels = Variable(seqs.long().to(device)), Variable(labels.to(device))\n",
        "        predictions = model(seqs, batch_size=256)\n",
        "        loss = compute_loss(predictions, labels)\n",
        "        dev_losses.append(loss.item())\n",
        "        accuracy = compute_accuracy(predictions, labels)\n",
        "        dev_accuracies.append(accuracy)\n",
        "\n",
        "    train_loss = np.average(train_losses)\n",
        "    dev_loss = np.average(dev_losses)\n",
        "    avg_train_losses.append(train_loss)\n",
        "    avg_dev_losses.append(dev_loss)\n",
        "    dev_accuracy = np.average(dev_accuracies)\n",
        "    avg_dev_accuracies.append(dev_accuracy)\n",
        "\n",
        "    print(f'\\nEpoch {epoch}/{epochs} - Train Loss: {train_loss:.5f} - Dev Error: {dev_loss:.5f} - Dev Accuracy: {dev_accuracy:.5f}')\n",
        "\n",
        "    train_losses, dev_losses, dev_accuracies = [], [], []\n",
        "\n",
        "    early_stopping(dev_loss, model) # Check if dev loss keeps decreasing\n",
        "\n",
        "    # If the model overfits the training data, stop training\n",
        "    if early_stopping.early_stop:\n",
        "        print('Early stopping')\n",
        "        break\n",
        "\n",
        "duration = int(time.time() - start_time)\n",
        "print('Trainig completed in {:02d}h:{:02d}m:{:02d}s'.format(duration // 3600, (duration % 3600 // 60), duration % 60))"
      ],
      "execution_count": 21,
      "outputs": [
        {
          "output_type": "stream",
          "text": [
            "Start training model...\n"
          ],
          "name": "stdout"
        },
        {
          "output_type": "stream",
          "text": [
            "/usr/local/lib/python3.6/dist-packages/torch/nn/modules/container.py:117: UserWarning: Implicit dimension choice for softmax has been deprecated. Change the call to include dim=X as an argument.\n",
            "  input = module(input)\n"
          ],
          "name": "stderr"
        },
        {
          "output_type": "stream",
          "text": [
            "\n",
            "Epoch 1/30 - Train Loss: 2369.54833 - Dev Error: 679.21786 - Dev Accuracy: 0.64980\n",
            "Validation loss decreased (inf --> 679.217865).  Saving model ...\n",
            "\n",
            "Epoch 2/30 - Train Loss: 936.94498 - Dev Error: 331.36334 - Dev Accuracy: 0.83341\n",
            "Validation loss decreased (679.217865 --> 331.363343).  Saving model ...\n",
            "\n",
            "Epoch 3/30 - Train Loss: 511.67345 - Dev Error: 214.73820 - Dev Accuracy: 0.88659\n",
            "Validation loss decreased (331.363343 --> 214.738201).  Saving model ...\n",
            "\n",
            "Epoch 4/30 - Train Loss: 343.34418 - Dev Error: 157.40425 - Dev Accuracy: 0.91719\n",
            "Validation loss decreased (214.738201 --> 157.404251).  Saving model ...\n",
            "\n",
            "Epoch 5/30 - Train Loss: 252.66285 - Dev Error: 125.69117 - Dev Accuracy: 0.93205\n",
            "Validation loss decreased (157.404251 --> 125.691171).  Saving model ...\n",
            "\n",
            "Epoch 6/30 - Train Loss: 195.53231 - Dev Error: 105.61161 - Dev Accuracy: 0.94255\n",
            "Validation loss decreased (125.691171 --> 105.611610).  Saving model ...\n",
            "\n",
            "Epoch 7/30 - Train Loss: 155.60591 - Dev Error: 88.39216 - Dev Accuracy: 0.95180\n",
            "Validation loss decreased (105.611610 --> 88.392162).  Saving model ...\n",
            "\n",
            "Epoch 8/30 - Train Loss: 126.14089 - Dev Error: 79.01171 - Dev Accuracy: 0.95613\n",
            "Validation loss decreased (88.392162 --> 79.011711).  Saving model ...\n",
            "\n",
            "Epoch 9/30 - Train Loss: 104.27896 - Dev Error: 70.66161 - Dev Accuracy: 0.96046\n",
            "Validation loss decreased (79.011711 --> 70.661606).  Saving model ...\n",
            "\n",
            "Epoch 10/30 - Train Loss: 86.92564 - Dev Error: 64.80113 - Dev Accuracy: 0.96269\n",
            "Validation loss decreased (70.661606 --> 64.801132).  Saving model ...\n",
            "\n",
            "Epoch 11/30 - Train Loss: 73.43733 - Dev Error: 58.30620 - Dev Accuracy: 0.96694\n",
            "Validation loss decreased (64.801132 --> 58.306196).  Saving model ...\n",
            "\n",
            "Epoch 12/30 - Train Loss: 62.19867 - Dev Error: 54.55651 - Dev Accuracy: 0.96846\n",
            "Validation loss decreased (58.306196 --> 54.556514).  Saving model ...\n",
            "\n",
            "Epoch 13/30 - Train Loss: 53.92524 - Dev Error: 52.28306 - Dev Accuracy: 0.96908\n",
            "Validation loss decreased (54.556514 --> 52.283056).  Saving model ...\n",
            "\n",
            "Epoch 14/30 - Train Loss: 45.96664 - Dev Error: 49.98953 - Dev Accuracy: 0.97061\n",
            "Validation loss decreased (52.283056 --> 49.989532).  Saving model ...\n",
            "\n",
            "Epoch 15/30 - Train Loss: 40.00877 - Dev Error: 48.08857 - Dev Accuracy: 0.97157\n",
            "Validation loss decreased (49.989532 --> 48.088565).  Saving model ...\n",
            "\n",
            "Epoch 16/30 - Train Loss: 35.28085 - Dev Error: 48.42357 - Dev Accuracy: 0.97103\n",
            "EarlyStopping counter: 1 out of 7\n",
            "\n",
            "Epoch 17/30 - Train Loss: 30.29019 - Dev Error: 46.20706 - Dev Accuracy: 0.97212\n",
            "Validation loss decreased (48.088565 --> 46.207061).  Saving model ...\n",
            "\n",
            "Epoch 18/30 - Train Loss: 27.11697 - Dev Error: 46.54561 - Dev Accuracy: 0.97155\n",
            "EarlyStopping counter: 1 out of 7\n",
            "\n",
            "Epoch 19/30 - Train Loss: 23.96668 - Dev Error: 42.24428 - Dev Accuracy: 0.97492\n",
            "Validation loss decreased (46.207061 --> 42.244276).  Saving model ...\n",
            "\n",
            "Epoch 20/30 - Train Loss: 22.02594 - Dev Error: 42.78910 - Dev Accuracy: 0.97430\n",
            "EarlyStopping counter: 1 out of 7\n",
            "\n",
            "Epoch 21/30 - Train Loss: 20.07806 - Dev Error: 43.25478 - Dev Accuracy: 0.97371\n",
            "EarlyStopping counter: 2 out of 7\n",
            "\n",
            "Epoch 22/30 - Train Loss: 18.50415 - Dev Error: 41.10771 - Dev Accuracy: 0.97459\n",
            "Validation loss decreased (42.244276 --> 41.107709).  Saving model ...\n",
            "\n",
            "Epoch 23/30 - Train Loss: 16.58142 - Dev Error: 41.05487 - Dev Accuracy: 0.97505\n",
            "Validation loss decreased (41.107709 --> 41.054867).  Saving model ...\n",
            "\n",
            "Epoch 24/30 - Train Loss: 15.43216 - Dev Error: 42.01226 - Dev Accuracy: 0.97415\n",
            "EarlyStopping counter: 1 out of 7\n",
            "\n",
            "Epoch 25/30 - Train Loss: 15.42372 - Dev Error: 40.84215 - Dev Accuracy: 0.97535\n",
            "Validation loss decreased (41.054867 --> 40.842147).  Saving model ...\n",
            "\n",
            "Epoch 26/30 - Train Loss: 13.61970 - Dev Error: 39.26457 - Dev Accuracy: 0.97629\n",
            "Validation loss decreased (40.842147 --> 39.264565).  Saving model ...\n",
            "\n",
            "Epoch 27/30 - Train Loss: 13.97759 - Dev Error: 41.85673 - Dev Accuracy: 0.97411\n",
            "EarlyStopping counter: 1 out of 7\n",
            "\n",
            "Epoch 28/30 - Train Loss: 13.64036 - Dev Error: 39.26726 - Dev Accuracy: 0.97573\n",
            "EarlyStopping counter: 2 out of 7\n",
            "\n",
            "Epoch 29/30 - Train Loss: 11.41021 - Dev Error: 40.05167 - Dev Accuracy: 0.97514\n",
            "EarlyStopping counter: 3 out of 7\n",
            "\n",
            "Epoch 30/30 - Train Loss: 12.95284 - Dev Error: 41.23938 - Dev Accuracy: 0.97411\n",
            "EarlyStopping counter: 4 out of 7\n",
            "Trainig completed in 00h:39m:08s\n"
          ],
          "name": "stdout"
        }
      ]
    },
    {
      "cell_type": "markdown",
      "metadata": {
        "id": "vm8Pb8yDLgvY"
      },
      "source": [
        "##**Plot training metrics**"
      ]
    },
    {
      "cell_type": "code",
      "metadata": {
        "colab": {
          "base_uri": "https://localhost:8080/",
          "height": 873
        },
        "id": "Ztt-WGy3kMdT",
        "outputId": "9456d911-94a5-4aca-cbf6-a1d961241214"
      },
      "source": [
        "fig, axs = plt.subplots(1, 2, figsize=(18, 12))\n",
        "\n",
        "plot_epochs = np.arange(1, len(avg_train_losses)+1)\n",
        "\n",
        "min_dev_loss_epoch  = np.argmin(avg_dev_losses)+1\n",
        "\n",
        "axs[0].plot(plot_epochs, avg_train_losses, label=\"Training loss\")\n",
        "axs[0].plot(plot_epochs, avg_dev_losses, label=\"Dev loss\")\n",
        "axs[0].axvline(min_dev_loss_epoch, linestyle='--', color='r', label=\"Early stopping\")\n",
        "axs[0].set_title('Training and Dev losses during training')\n",
        "\n",
        "axs[1].plot(plot_epochs, avg_dev_accuracies, label=\"Dev accuracy\")\n",
        "axs[1].set_ylim(0, 1)\n",
        "axs[1].set_title('Dev accuracy')\n",
        "\n",
        "plt.grid(True)\n",
        "axs[0].legend()\n",
        "axs[1].legend()\n",
        "plt.tight_layout()\n"
      ],
      "execution_count": 22,
      "outputs": [
        {
          "output_type": "display_data",
          "data": {
            "image/png": "[encoded data removed]",
            "text/plain": [
              "<Figure size 1296x864 with 2 Axes>"
            ]
          },
          "metadata": {
            "tags": [],
            "needs_background": "light"
          }
        }
      ]
    },
    {
      "cell_type": "markdown",
      "metadata": {
        "id": "bIZOScS4UZOe"
      },
      "source": [
        "We observe that the dev loss is lower than the training loss. This can be explained by 2 things:\n",
        "* The training loss is computed before the dev loss, so has half-epoch discrepancy. A more accurate plot would shift the dev loss to the right.\n",
        "* Regularisation through the dropout layer has been used during training but not during evaluation."
      ]
    },
    {
      "cell_type": "markdown",
      "metadata": {
        "id": "tMZwmAWqKzeF"
      },
      "source": [
        "##**Final evalutation of the model on the test dataset**"
      ]
    },
    {
      "cell_type": "code",
      "metadata": {
        "colab": {
          "base_uri": "https://localhost:8080/"
        },
        "id": "Yqt9oDApTL7z",
        "outputId": "806a9512-594b-44bb-c862-02a148407fb0"
      },
      "source": [
        "# Load final model weights\n",
        "model.load_state_dict(torch.load('checkpoint.pt'))\n",
        "\n",
        "model.eval()\n",
        "accuracies = []\n",
        "for batch_idx, (seqs, labels) in enumerate(test_dataloader):\n",
        "  seqs, labels = Variable(seqs.long().to(device)), Variable(labels.to(device))\n",
        "  predictions = model(seqs, batch_size=256)\n",
        "  accuracy = compute_accuracy(predictions, labels)\n",
        "  accuracies.append(accuracy)\n",
        "\n",
        "print(f'Average accuracy on the test dataset - {np.mean(accuracies):.5f}')"
      ],
      "execution_count": 23,
      "outputs": [
        {
          "output_type": "stream",
          "text": [
            "/usr/local/lib/python3.6/dist-packages/torch/nn/modules/container.py:117: UserWarning: Implicit dimension choice for softmax has been deprecated. Change the call to include dim=X as an argument.\n",
            "  input = module(input)\n"
          ],
          "name": "stderr"
        },
        {
          "output_type": "stream",
          "text": [
            "Average accuracy on the test dataset - 0.97489\n"
          ],
          "name": "stdout"
        }
      ]
    },
    {
      "cell_type": "markdown",
      "metadata": {
        "id": "u81swFQgUHOb"
      },
      "source": [
        "We obtain a final accuracy of 97.5% on the test dataset and 97.4% on the dev dataset. "
      ]
    },
    {
      "cell_type": "code",
      "metadata": {
        "id": "ghQpx56_UN7Y"
      },
      "source": [
        ""
      ],
      "execution_count": null,
      "outputs": []
    }
  ]
}